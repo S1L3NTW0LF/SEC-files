{
 "cells": [
  {
   "cell_type": "code",
   "execution_count": 1,
   "id": "589ef29a",
   "metadata": {},
   "outputs": [
    {
     "data": {
      "text/html": [
       "<style>.container { width:100% !important; }</style>"
      ],
      "text/plain": [
       "<IPython.core.display.HTML object>"
      ]
     },
     "metadata": {},
     "output_type": "display_data"
    }
   ],
   "source": [
    "from IPython.display import display, HTML\n",
    "display(HTML(\"<style>.container { width:100% !important; }</style>\"))"
   ]
  },
  {
   "cell_type": "code",
   "execution_count": 2,
   "id": "77834dbc",
   "metadata": {},
   "outputs": [],
   "source": [
    "import pandas as pd\n",
    "import numpy as np\n",
    "import datetime\n",
    "import os"
   ]
  },
  {
   "cell_type": "code",
   "execution_count": 3,
   "id": "aecba0ea",
   "metadata": {},
   "outputs": [],
   "source": [
    "assembled_list = os.listdir('./assembled-data/')"
   ]
  },
  {
   "cell_type": "code",
   "execution_count": 75,
   "id": "8771acf9",
   "metadata": {},
   "outputs": [],
   "source": [
    "for file in assembled_list: \n",
    "    \n",
    "    df = pd.read_csv(f'./assembled-data/{file}', names=['cik', 'fn_name', 'end', 'val', 'filed'])\n",
    "\n",
    "    df = df.drop_duplicates()\n",
    "\n",
    "    df.end = pd.to_datetime(df.end)\n",
    "    df.filed = pd.to_datetime(df.filed)\n",
    "\n",
    "    cik_list = df.cik.unique()\n",
    "\n",
    "    # creates a seperate csv file for each company that includes all years of data\n",
    "    for cik in cik_list: \n",
    "\n",
    "        df1 = df[df.cik == cik]\n",
    "\n",
    "        df_set = pd.DataFrame()\n",
    "        years = pd.Series(df1.end).dt.year.unique()\n",
    "        \n",
    "        for year in years:\n",
    "\n",
    "            df2 = df1[df1.end.dt.strftime('%Y') == str(year)]\n",
    "            df3 = df2.sort_values(by=['fn_name', 'filed'])\n",
    "            df4 = df3.drop_duplicates(subset='fn_name', keep='last')\n",
    "            df5 = df4[['fn_name', 'val']]\n",
    "            df6 = df5.set_index('fn_name')\n",
    "            df7 = df6.transpose()\n",
    "\n",
    "            df7['reporting_for'] = year\n",
    "            cols = df7.columns.to_list()\n",
    "            cols = cols[-1:] + cols[:-1]\n",
    "            df7 = df7[cols]\n",
    "\n",
    "            df7['cik'] = cik\n",
    "            cols = df7.columns.to_list()\n",
    "            cols = cols[-1:] + cols[:-1]\n",
    "            df7 = df7[cols]\n",
    "\n",
    "            df_set = pd.concat([df_set, df7], ignore_index=True)\n",
    "\n",
    "        df_set.to_csv(f'./company-fin-sets/{cik}.csv', mode='w', index=False, header=True)"
   ]
  }
 ],
 "metadata": {
  "kernelspec": {
   "display_name": "Python 3 (ipykernel)",
   "language": "python",
   "name": "python3"
  },
  "language_info": {
   "codemirror_mode": {
    "name": "ipython",
    "version": 3
   },
   "file_extension": ".py",
   "mimetype": "text/x-python",
   "name": "python",
   "nbconvert_exporter": "python",
   "pygments_lexer": "ipython3",
   "version": "3.9.13"
  }
 },
 "nbformat": 4,
 "nbformat_minor": 5
}
