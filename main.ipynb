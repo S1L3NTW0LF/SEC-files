{
 "cells": [
  {
   "cell_type": "code",
   "execution_count": null,
   "id": "8ab80a22",
   "metadata": {
    "collapsed": true
   },
   "outputs": [],
   "source": [
    "%store -r KeyError_list\n",
    "%store -r tracker "
   ]
  },
  {
   "cell_type": "code",
   "execution_count": 1,
   "id": "ddcdcffa",
   "metadata": {},
   "outputs": [],
   "source": [
    "import pandas as pd\n",
    "import numpy as np\n",
    "import json\n",
    "import os\n",
    "import re\n",
    "import time\n",
    "import sys"
   ]
  },
  {
   "cell_type": "code",
   "execution_count": 2,
   "id": "86e2591e",
   "metadata": {},
   "outputs": [],
   "source": [
    "import warnings\n",
    "warnings.filterwarnings('ignore')"
   ]
  },
  {
   "cell_type": "code",
   "execution_count": 22,
   "id": "23fc3416",
   "metadata": {},
   "outputs": [],
   "source": [
    "# do not run \n",
    "KeyError_list = pd.Series()\n",
    "tracker = 0"
   ]
  },
  {
   "cell_type": "code",
   "execution_count": 4,
   "id": "05e2cac6",
   "metadata": {},
   "outputs": [],
   "source": [
    "list_files = pd.Series(os.listdir('companyfacts/'))\n",
    "list_sub = pd.Series(os.listdir('submissions/'))"
   ]
  },
  {
   "cell_type": "code",
   "execution_count": 23,
   "id": "dc4631cb",
   "metadata": {},
   "outputs": [
    {
     "name": "stdout",
     "output_type": "stream",
     "text": [
      "0   CIK0000874214.json\n",
      "\t\t\t\t\t31.576213520614886\n",
      "1   CIK0001820931.json\n",
      "\t\t\t\t\t88.09743324915569\n",
      "2   CIK0001271940.json\n",
      "\t\t\t\t\t18.65659748111759\n",
      "3   CIK0001563227.json\n",
      "\t\t\t\t\t38.579890956986425\n",
      "4   CIK0001473845.json\n",
      "\t\t\t\t\t\t\t\t\t\t\tKEYERROR: CIK0001473845.json\n",
      "5   CIK0001401106.json\n",
      "\t\t\t\t\t27.54734321074052\n",
      "6   CIK0001489161.json\n",
      "7   CIK0001470550.json\n",
      "\t\t\t\t\t41.65054281095892\n",
      "8   CIK0000744452.json\n",
      "\t\t\t\t\t50.24406580890351\n",
      "9   CIK0000884247.json\n"
     ]
    }
   ],
   "source": [
    "for x, y in enumerate(list_files[:10]):    \n",
    "    \n",
    "    df_stock = pd.DataFrame()\n",
    "\n",
    "    # Block of code opens two json files and then creates AccessionNumber List \n",
    "    print(f'{x}   {y}')\n",
    "    \n",
    "    with open(f'companyfacts/{y}') as datafile:\n",
    "        data_comp = json.load(datafile)\n",
    "        \n",
    "    with open(f'submissions/{y}') as datafile:\n",
    "        data_sub = json.load(datafile)\n",
    "    \n",
    "    df_submissions = pd.DataFrame(data_sub['filings']['recent'])\n",
    "    df_10K = df_submissions.loc[df_submissions['form'] == '10-K']\n",
    "\n",
    "    accn_list = df_10K['accessionNumber']\n",
    "    accn_list = accn_list.reset_index(drop=True)\n",
    "    \n",
    "    \n",
    "    # Block of code adds AccessionNumbers from additional json submission files \n",
    "    CIK_num = y[:-5]\n",
    "    pattern = re.compile(f'{CIK_num}-submissions')\n",
    "\n",
    "    for i in list_sub:\n",
    "        matches = pattern.findall(i)\n",
    "        \n",
    "        for match in matches:\n",
    "            \n",
    "            with open(f'submissions/{i}') as datafile:\n",
    "                data_sub = json.load(datafile)\n",
    "         \n",
    "            df_submissions = pd.DataFrame(data_sub)\n",
    "            df_10K = df_submissions.loc[df_submissions['form'] == '10-K']\n",
    "\n",
    "            accn_additions = df_10K['accessionNumber']\n",
    "            accn_additions = accn_additions.reset_index(drop=True)\n",
    "            \n",
    "            accn_list = pd.concat([accn_list, accn_additions], ignore_index=True)\n",
    "            \n",
    "    \n",
    "    ttt = 0 \n",
    "    st = time.time()\n",
    "    \n",
    "    # Block of code pulls appropriate data from json file and then writes to a csv file\n",
    "    try: \n",
    "        for xx, yy in enumerate(data_comp['facts']['us-gaap']):\n",
    "        \n",
    "            df = data_comp['facts']['us-gaap'][yy]['units']\n",
    "\n",
    "            units = pd.Series(df.keys()).iloc[0]\n",
    "\n",
    "            df = pd.DataFrame(data_comp['facts']['us-gaap'][yy]['units'][units])\n",
    "            \n",
    "            \n",
    "            for ii in accn_list:\n",
    "                match = df.loc[df['accn'] == ii]\n",
    "\n",
    "                match['fn_name'] = yy\n",
    "                match['cik'] = data_comp['cik']\n",
    "                \n",
    "                df_stock = pd.concat([df_stock, match])\n",
    "                \n",
    "                ttt += 1\n",
    "            \n",
    "            df_stock.to_csv('0-9.csv', mode='a', header=False, index=False)\n",
    "        \n",
    "        \n",
    "        et = time.time()\n",
    "        elap = et - st \n",
    "        \n",
    "        if ttt != 0:\n",
    "            print(f'\\t\\t\\t\\t\\t{elap / ttt * 10000}')\n",
    "        \n",
    "        \n",
    "    except KeyError:\n",
    "                print(f\"\\t\\t\\t\\t\\t\\t\\t\\t\\t\\t\\tKEYERROR: {y}\")\n",
    "                KeyError_list = pd.concat([KeyError_list, pd.Series(y)])"
   ]
  },
  {
   "cell_type": "code",
   "execution_count": 13,
   "id": "ec334653",
   "metadata": {},
   "outputs": [],
   "source": [
    "KeyError_list.reset_index(drop=True, inplace=True)\n",
    "\n",
    "KeyError_list.to_json('test')"
   ]
  },
  {
   "cell_type": "code",
   "execution_count": 16,
   "id": "ed0d93be",
   "metadata": {},
   "outputs": [
    {
     "name": "stdout",
     "output_type": "stream",
     "text": [
      "Stored 'df_stock' (DataFrame)\n",
      "Stored 'KeyError_list' (Series)\n"
     ]
    }
   ],
   "source": [
    "%store KeyError_list\n",
    "%store tracker"
   ]
  }
 ],
 "metadata": {
  "kernelspec": {
   "display_name": "Python 3 (ipykernel)",
   "language": "python",
   "name": "python3"
  },
  "language_info": {
   "codemirror_mode": {
    "name": "ipython",
    "version": 3
   },
   "file_extension": ".py",
   "mimetype": "text/x-python",
   "name": "python",
   "nbconvert_exporter": "python",
   "pygments_lexer": "ipython3",
   "version": "3.9.12"
  }
 },
 "nbformat": 4,
 "nbformat_minor": 5
}
