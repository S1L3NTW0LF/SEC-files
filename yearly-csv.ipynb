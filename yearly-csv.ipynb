{
 "cells": [
  {
   "cell_type": "code",
   "execution_count": 33,
   "id": "e2753791",
   "metadata": {},
   "outputs": [],
   "source": [
    "import pandas as pd\n",
    "import numpy as np\n",
    "import os\n",
    "import time"
   ]
  },
  {
   "cell_type": "code",
   "execution_count": 34,
   "id": "02ed298c",
   "metadata": {},
   "outputs": [],
   "source": [
    "fin_list = os.listdir('./company-fin-sets')"
   ]
  },
  {
   "cell_type": "code",
   "execution_count": 3,
   "id": "f8dd9949",
   "metadata": {},
   "outputs": [],
   "source": [
    "# creates header that includes every column \n",
    "cl = []\n",
    "\n",
    "for i in fin_list: \n",
    "    \n",
    "    df = pd.read_csv(f'./company-fin-sets/{i}') \n",
    "    cl.append(pd.Series(df.columns))\n",
    "\n",
    "cl = pd.concat(cl, ignore_index=True)\n",
    "cl.drop_duplicates(keep='first', inplace=True)"
   ]
  },
  {
   "cell_type": "code",
   "execution_count": 49,
   "id": "74bc4d5e",
   "metadata": {},
   "outputs": [],
   "source": [
    "cl.to_csv('./master/columns.csv')\n",
    "cl.to_csv('./yearly-fin-sets/columns.csv')"
   ]
  },
  {
   "cell_type": "code",
   "execution_count": 46,
   "id": "00352571",
   "metadata": {},
   "outputs": [],
   "source": [
    "df_list = []\n",
    "\n",
    "for i in fin_list: \n",
    "   \n",
    "    df = pd.read_csv(f'./company-fin-sets/{i}')\n",
    "    df = df.reindex(columns=cl)\n",
    "    df.to_csv('./master/master-df.csv', mode='a', header=False, index=False)"
   ]
  },
  {
   "cell_type": "code",
   "execution_count": 47,
   "id": "05b7369c",
   "metadata": {},
   "outputs": [],
   "source": [
    "starts = range(0, 110000, 10000)"
   ]
  },
  {
   "cell_type": "code",
   "execution_count": 48,
   "id": "dd014801",
   "metadata": {},
   "outputs": [],
   "source": [
    "# csv file is too large to read in all at once \n",
    "# creates csv files grouped by year\n",
    "for start in starts: \n",
    "    \n",
    "    mdf = pd.read_csv('./master/master-df.csv', names=cl, skiprows=start, nrows=10000)\n",
    "    years = mdf.reporting_for.unique()\n",
    "\n",
    "    for year in years: \n",
    "        \n",
    "        ydf = mdf[mdf.reporting_for == year]\n",
    "        ydf.to_csv(f'./yearly-fin-sets/{year}.csv', mode='a', header=False, index=False)"
   ]
  }
 ],
 "metadata": {
  "kernelspec": {
   "display_name": "Python 3 (ipykernel)",
   "language": "python",
   "name": "python3"
  },
  "language_info": {
   "codemirror_mode": {
    "name": "ipython",
    "version": 3
   },
   "file_extension": ".py",
   "mimetype": "text/x-python",
   "name": "python",
   "nbconvert_exporter": "python",
   "pygments_lexer": "ipython3",
   "version": "3.9.13"
  }
 },
 "nbformat": 4,
 "nbformat_minor": 5
}
